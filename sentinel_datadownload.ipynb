{
 "cells": [
  {
   "cell_type": "code",
   "execution_count": 1,
   "metadata": {},
   "outputs": [],
   "source": [
    "%reload_ext autoreload\n",
    "%autoreload 2\n",
    "%matplotlib inline\n"
   ]
  },
  {
   "cell_type": "code",
   "execution_count": 2,
   "metadata": {},
   "outputs": [],
   "source": [
    "import numpy as np\n",
    "import matplotlib.pyplot as plt\n",
    "\n",
    "from sentinelhub import WebFeatureService, BBox, CRS, DataSource"
   ]
  },
  {
   "cell_type": "code",
   "execution_count": null,
   "metadata": {},
   "outputs": [],
   "source": []
  },
  {
   "cell_type": "code",
   "execution_count": 6,
   "metadata": {},
   "outputs": [
    {
     "name": "stdout",
     "output_type": "stream",
     "text": [
      "{'type': 'Feature', 'id': '592ccd11-64d8-5f31-8b76-e6b7651a8010', 'geometry': {'type': 'MultiPolygon', 'coordinates': [[[[77.949935782199, 18.066513249755], [77.825171733323, 17.518789340027], [77.818431532184, 17.0769991519], [78.848556767218, 17.060059198726], [78.869560177775, 18.050265869903], [77.949935782199, 18.066513249755]]]]}, 'properties': {'collection': 'Sentinel2', 'license': {'licenseId': 'unlicensed', 'hasToBeSigned': 'never', 'grantedCountries': None, 'grantedOrganizationCountries': None, 'grantedFlags': None, 'viewService': 'public', 'signatureQuota': -1, 'description': {'shortName': 'No license'}}, 'productIdentifier': 'S2A_OPER_MSI_L1C_TL_SGS__20200129T070349_A024040_T43QHV_N02.08', 'parentIdentifier': None, 'title': 'S2A_OPER_MSI_L1C_TL_SGS__20200129T070349_A024040_T43QHV_N02.08', 'description': None, 'organisationName': None, 'startDate': '2020-01-29T05:23:56Z', 'completionDate': '2020-01-29T05:23:56Z', 'productType': 'S2MSI1C', 'processingLevel': '1C', 'platform': 'Sentinel-2', 'instrument': 'MSI', 'resolution': 10, 'sensorMode': None, 'orbitNumber': 24040, 'quicklook': None, 'thumbnail': None, 'updated': '2020-01-29T08:37:29.406432Z', 'published': '2020-01-29T08:37:29.406432Z', 'snowCover': 0, 'cloudCover': 4.95, 'keywords': [], 'centroid': {'type': 'Point', 'coordinates': [39.434780088887, 17.56328622424]}, 's3Path': 'tiles/43/Q/HV/2020/1/29/0', 'spacecraft': 'S2A', 'sgsId': 11598445, 's3URI': 's3://sentinel-s2-l1c/tiles/43/Q/HV/2020/1/29/0/', 'services': {'download': {'url': 'http://sentinel-s2-l1c.s3-website.eu-central-1.amazonaws.com#tiles/43/Q/HV/2020/1/29/0/', 'mimeType': 'text/html'}}, 'links': [{'rel': 'self', 'type': 'application/json', 'title': 'GeoJSON link for 592ccd11-64d8-5f31-8b76-e6b7651a8010', 'href': 'http://opensearch.sentinel-hub.com/resto/collections/Sentinel2/592ccd11-64d8-5f31-8b76-e6b7651a8010.json?&lang=en'}]}}\n",
      "{'type': 'Feature', 'id': '0c48f0c1-ee68-5d78-84f9-2ea6e1011647', 'geometry': {'type': 'MultiPolygon', 'coordinates': [[[[78.165806627419, 18.068247779457], [78.181211758369, 17.076994191612], [79.212333176112, 17.088711506235], [79.202553779723, 18.0806895732], [78.165806627419, 18.068247779457]]]]}, 'properties': {'collection': 'Sentinel2', 'license': {'licenseId': 'unlicensed', 'hasToBeSigned': 'never', 'grantedCountries': None, 'grantedOrganizationCountries': None, 'grantedFlags': None, 'viewService': 'public', 'signatureQuota': -1, 'description': {'shortName': 'No license'}}, 'productIdentifier': 'S2A_OPER_MSI_L1C_TL_SGS__20200129T070349_A024040_T44QKE_N02.08', 'parentIdentifier': None, 'title': 'S2A_OPER_MSI_L1C_TL_SGS__20200129T070349_A024040_T44QKE_N02.08', 'description': None, 'organisationName': None, 'startDate': '2020-01-29T05:23:55Z', 'completionDate': '2020-01-29T05:23:55Z', 'productType': 'S2MSI1C', 'processingLevel': '1C', 'platform': 'Sentinel-2', 'instrument': 'MSI', 'resolution': 10, 'sensorMode': None, 'orbitNumber': 24040, 'quicklook': None, 'thumbnail': None, 'updated': '2020-01-29T08:42:34.842578Z', 'published': '2020-01-29T08:42:34.842578Z', 'snowCover': 0, 'cloudCover': 6.71, 'keywords': [], 'centroid': {'type': 'Point', 'coordinates': [39.606166588056, 17.578841882406]}, 's3Path': 'tiles/44/Q/KE/2020/1/29/0', 'spacecraft': 'S2A', 'sgsId': 11598507, 's3URI': 's3://sentinel-s2-l1c/tiles/44/Q/KE/2020/1/29/0/', 'services': {'download': {'url': 'http://sentinel-s2-l1c.s3-website.eu-central-1.amazonaws.com#tiles/44/Q/KE/2020/1/29/0/', 'mimeType': 'text/html'}}, 'links': [{'rel': 'self', 'type': 'application/json', 'title': 'GeoJSON link for 0c48f0c1-ee68-5d78-84f9-2ea6e1011647', 'href': 'http://opensearch.sentinel-hub.com/resto/collections/Sentinel2/0c48f0c1-ee68-5d78-84f9-2ea6e1011647.json?&lang=en'}]}}\n"
     ]
    }
   ],
   "source": [
    "from sentinelhub import get_area_info\n",
    "\n",
    "search_bbox = BBox(bbox=[78.511639, 17.454338, 78.401239, 17.35661], crs=CRS.WGS84)\n",
    "search_time_interval = ('2020-01-29T00:00:00', '2020-01-30T23:59:59')\n",
    "\n",
    "for tile_info in get_area_info(search_bbox, search_time_interval, maxcc=0.5):\n",
    "    print(tile_info)"
   ]
  },
  {
   "cell_type": "code",
   "execution_count": 7,
   "metadata": {},
   "outputs": [
    {
     "data": {
      "text/plain": [
       "('44QKE', '2020-1-29', 0)"
      ]
     },
     "execution_count": 7,
     "metadata": {},
     "output_type": "execute_result"
    }
   ],
   "source": [
    "from sentinelhub import AwsTile\n",
    "\n",
    "tile_id = 'S2A_OPER_MSI_L1C_TL_SGS__20200129T070349_A024040_T44QKE_N02.08'\n",
    "tile_name, time, aws_index = AwsTile.tile_id_to_tile(tile_id)\n",
    "tile_name, time, aws_index"
   ]
  },
  {
   "cell_type": "code",
   "execution_count": 10,
   "metadata": {},
   "outputs": [],
   "source": [
    "from collections import OrderedDict\n",
    "from sentinelsat import SentinelAPI\n",
    "\n",
    "api = SentinelAPI('payel22', 'binni1234')\n",
    "\n",
    "tiles = ['44QKE']\n",
    "\n",
    "query_kwargs = {\n",
    "        'platformname': 'Sentinel-2',\n",
    "        'producttype': 'S2MSI1C',\n",
    "        'date': ('NOW-5DAY', 'NOW')}\n",
    "\n",
    "products = OrderedDict()\n",
    "for tile in tiles:\n",
    "    kw = query_kwargs.copy()\n",
    "    kw['tileid'] = tile # products after 2017-03-31\n",
    "    pp = api.query(**kw)\n",
    "    products.update(pp)"
   ]
  },
  {
   "cell_type": "code",
   "execution_count": 11,
   "metadata": {},
   "outputs": [
    {
     "data": {
      "application/vnd.jupyter.widget-view+json": {
       "model_id": "f7c463962e5442438033e86b999efc75",
       "version_major": 2,
       "version_minor": 0
      },
      "text/plain": [
       "Downloading products:   0%|          | 0/2 [00:00<?, ?product/s]"
      ]
     },
     "metadata": {},
     "output_type": "display_data"
    },
    {
     "data": {
      "application/vnd.jupyter.widget-view+json": {
       "model_id": "382d2afc122f4adf917ab3bdc431ac93",
       "version_major": 2,
       "version_minor": 0
      },
      "text/plain": [
       "Downloading S2A_MSIL1C_20220905T050711_N0400_R019_T44QKE_20220905T070719.zip:   0%|          | 0.00/868M [00:0…"
      ]
     },
     "metadata": {},
     "output_type": "display_data"
    },
    {
     "data": {
      "application/vnd.jupyter.widget-view+json": {
       "model_id": "cde13389fab24a669924ee67221afdd3",
       "version_major": 2,
       "version_minor": 0
      },
      "text/plain": [
       "Downloading S2A_MSIL1C_20220908T051701_N0400_R062_T44QKE_20220908T085631.zip:   0%|          | 0.00/30.0M [00:…"
      ]
     },
     "metadata": {},
     "output_type": "display_data"
    },
    {
     "name": "stderr",
     "output_type": "stream",
     "text": [
      "There was an error downloading S2A_MSIL1C_20220908T051701_N0400_R062_T44QKE_20220908T085631\n",
      "Traceback (most recent call last):\n",
      "  File \"/opt/homebrew/Caskroom/miniforge/base/envs/myenv_test/lib/python3.10/site-packages/sentinelsat/sentinel.py\", line 1017, in _check_scihub_response\n",
      "    response.raise_for_status()\n",
      "  File \"/opt/homebrew/Caskroom/miniforge/base/envs/myenv_test/lib/python3.10/site-packages/requests/models.py\", line 1021, in raise_for_status\n",
      "    raise HTTPError(http_error_msg, response=self)\n",
      "requests.exceptions.HTTPError: 504 Server Error: Gateway Time-out for url: https://apihub.copernicus.eu/apihub/odata/v1/Products('cb834415-9659-4a49-b6a5-d33fbc4eefc4')/$value\n",
      "\n",
      "During handling of the above exception, another exception occurred:\n",
      "\n",
      "Traceback (most recent call last):\n",
      "  File \"/opt/homebrew/Caskroom/miniforge/base/envs/myenv_test/lib/python3.10/site-packages/sentinelsat/download.py\", line 700, in _download_online_retry\n",
      "    return self.download(uuid, directory, stop_event=stop_event)\n",
      "  File \"/opt/homebrew/Caskroom/miniforge/base/envs/myenv_test/lib/python3.10/site-packages/sentinelsat/download.py\", line 150, in download\n",
      "    self._download_common(product_info, path, stop_event)\n",
      "  File \"/opt/homebrew/Caskroom/miniforge/base/envs/myenv_test/lib/python3.10/site-packages/sentinelsat/download.py\", line 218, in _download_common\n",
      "    product_info[\"downloaded_bytes\"] = self._download(\n",
      "  File \"/opt/homebrew/Caskroom/miniforge/base/envs/myenv_test/lib/python3.10/site-packages/sentinelsat/download.py\", line 741, in _download\n",
      "    self.api._check_scihub_response(r, test_json=False)\n",
      "  File \"/opt/homebrew/Caskroom/miniforge/base/envs/myenv_test/lib/python3.10/site-packages/sentinelsat/sentinel.py\", line 1063, in _check_scihub_response\n",
      "    raise ServerError(msg, response)\n",
      "sentinelsat.exceptions.ServerError: HTTP status 504 Gateway Time-out: \n",
      "# 504 Gateway Time-out\n",
      "\n",
      "The server didn't respond in time.\n"
     ]
    },
    {
     "data": {
      "application/vnd.jupyter.widget-view+json": {
       "model_id": "7307fa209cc9482ca929ad65fc7d8710",
       "version_major": 2,
       "version_minor": 0
      },
      "text/plain": [
       "Downloading S2A_MSIL1C_20220908T051701_N0400_R062_T44QKE_20220908T085631.zip:   0%|          | 0.00/30.0M [00:…"
      ]
     },
     "metadata": {},
     "output_type": "display_data"
    },
    {
     "data": {
      "application/vnd.jupyter.widget-view+json": {
       "model_id": "26b933e5b90f4ae188381d1ee45ab566",
       "version_major": 2,
       "version_minor": 0
      },
      "text/plain": [
       "MD5 checksumming:   0%|          | 0.00/30.0M [00:00<?, ?B/s]"
      ]
     },
     "metadata": {},
     "output_type": "display_data"
    },
    {
     "data": {
      "application/vnd.jupyter.widget-view+json": {
       "model_id": "7c7688e6dfcc446ebc90f6695bbf91c2",
       "version_major": 2,
       "version_minor": 0
      },
      "text/plain": [
       "MD5 checksumming:   0%|          | 0.00/868M [00:00<?, ?B/s]"
      ]
     },
     "metadata": {},
     "output_type": "display_data"
    },
    {
     "data": {
      "text/plain": [
       "ResultTuple(downloaded={'cb834415-9659-4a49-b6a5-d33fbc4eefc4': {'id': 'cb834415-9659-4a49-b6a5-d33fbc4eefc4', 'title': 'S2A_MSIL1C_20220908T051701_N0400_R062_T44QKE_20220908T085631', 'size': 30047302, 'md5': 'd9cfa42433241f038d8c231938a7ddbd', 'date': datetime.datetime(2022, 9, 8, 5, 17, 1, 24000), 'footprint': 'POLYGON((78.2455958772172 18.069214319528612,78.23052677071014 18.007226660994675,78.19420701049806 17.859188887916822,78.17055775150392 17.761926862233143,78.16579704596043 18.06825666937151,78.2455958772172 18.069214319528612))', 'url': \"https://apihub.copernicus.eu/apihub/odata/v1/Products('cb834415-9659-4a49-b6a5-d33fbc4eefc4')/$value\", 'Online': True, 'Creation Date': datetime.datetime(2022, 9, 8, 12, 58, 2, 605000), 'Ingestion Date': datetime.datetime(2022, 9, 8, 12, 57, 23, 702000), 'quicklook_url': \"https://apihub.copernicus.eu/apihub/odata/v1/Products('cb834415-9659-4a49-b6a5-d33fbc4eefc4')/Products('Quicklook')/$value\", 'path': 'S2A_MSIL1C_20220908T051701_N0400_R062_T44QKE_20220908T085631.zip', 'downloaded_bytes': 30047302}, '055655d0-10ac-4274-b96d-25c77f7bfd09': {'id': '055655d0-10ac-4274-b96d-25c77f7bfd09', 'title': 'S2A_MSIL1C_20220905T050711_N0400_R019_T44QKE_20220905T070719', 'size': 868364122, 'md5': 'e6f43b926a142dcd96600ded93e6dc55', 'date': datetime.datetime(2022, 9, 5, 5, 7, 11, 24000), 'footprint': 'POLYGON((78.16579704596043 18.06825666937151,79.20256313362104 18.080698696292075,79.21234265683665 17.08870255501317,78.18120250850947 17.07698503359998,78.16579704596043 18.06825666937151))', 'url': \"https://apihub.copernicus.eu/apihub/odata/v1/Products('055655d0-10ac-4274-b96d-25c77f7bfd09')/$value\", 'Online': True, 'Creation Date': datetime.datetime(2022, 9, 5, 9, 52, 20, 443000), 'Ingestion Date': datetime.datetime(2022, 9, 5, 9, 51, 48, 800000), 'quicklook_url': \"https://apihub.copernicus.eu/apihub/odata/v1/Products('055655d0-10ac-4274-b96d-25c77f7bfd09')/Products('Quicklook')/$value\", 'path': 'S2A_MSIL1C_20220905T050711_N0400_R019_T44QKE_20220905T070719.zip', 'downloaded_bytes': 868364122}}, retrieval_triggered={}, failed={})"
      ]
     },
     "execution_count": 11,
     "metadata": {},
     "output_type": "execute_result"
    }
   ],
   "source": [
    "api.download_all(products)\n"
   ]
  },
  {
   "cell_type": "code",
   "execution_count": null,
   "metadata": {},
   "outputs": [],
   "source": []
  }
 ],
 "metadata": {
  "kernelspec": {
   "display_name": "Python 3.10.6 ('myenv_test')",
   "language": "python",
   "name": "python3"
  },
  "language_info": {
   "codemirror_mode": {
    "name": "ipython",
    "version": 3
   },
   "file_extension": ".py",
   "mimetype": "text/x-python",
   "name": "python",
   "nbconvert_exporter": "python",
   "pygments_lexer": "ipython3",
   "version": "3.10.6"
  },
  "orig_nbformat": 4,
  "vscode": {
   "interpreter": {
    "hash": "e59e571b1fb03cb81dc78e5241f110eda38aba6ef610cf4d88e767f049ec607b"
   }
  }
 },
 "nbformat": 4,
 "nbformat_minor": 2
}
